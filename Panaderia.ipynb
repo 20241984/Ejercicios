{
  "nbformat": 4,
  "nbformat_minor": 0,
  "metadata": {
    "colab": {
      "provenance": [],
      "authorship_tag": "ABX9TyO4BAHdyMRxo4O8SyaSPaWl",
      "include_colab_link": true
    },
    "kernelspec": {
      "name": "python3",
      "display_name": "Python 3"
    },
    "language_info": {
      "name": "python"
    }
  },
  "cells": [
    {
      "cell_type": "markdown",
      "metadata": {
        "id": "view-in-github",
        "colab_type": "text"
      },
      "source": [
        "<a href=\"https://colab.research.google.com/github/20241984/Ejercicios/blob/main/Panaderia.ipynb\" target=\"_parent\"><img src=\"https://colab.research.google.com/assets/colab-badge.svg\" alt=\"Open In Colab\"/></a>"
      ]
    },
    {
      "cell_type": "markdown",
      "source": [
        "Imports"
      ],
      "metadata": {
        "id": "lvFZVarOs3iA"
      }
    },
    {
      "cell_type": "code",
      "source": [
        "import numpy as np\n"
      ],
      "metadata": {
        "id": "8yleQmE9sQGE"
      },
      "execution_count": 105,
      "outputs": []
    },
    {
      "cell_type": "code",
      "execution_count": 106,
      "metadata": {
        "colab": {
          "base_uri": "https://localhost:8080/"
        },
        "id": "Uq4EWWdiqkyV",
        "outputId": "e98fd6d4-e97a-439c-dee2-15d858f3aa68"
      },
      "outputs": [
        {
          "output_type": "execute_result",
          "data": {
            "text/plain": [
              "list"
            ]
          },
          "metadata": {},
          "execution_count": 106
        }
      ],
      "source": [
        "# Lista de precio de pasteles: Brownie, Galletas, Pastel\n",
        "price = [2,1,10]\n",
        "type(price)\n",
        "\n",
        "# Cantidades Vendidas\n",
        "quantity_sold = [17,40,1]\n",
        "type(quantity_sold)\n"
      ]
    },
    {
      "cell_type": "code",
      "source": [
        "# transformamos las lista en array con la biblioteca numpy\n",
        "# Ingresos por venta\n",
        "price_array = np.array(price)\n",
        "quantity_sold_array = np.array(quantity_sold)\n",
        "price_array*quantity_sold\n",
        "venta = sum(price_array*quantity_sold)\n",
        "print(price_array*quantity_sold)\n",
        "venta"
      ],
      "metadata": {
        "colab": {
          "base_uri": "https://localhost:8080/"
        },
        "id": "AcjwQ6QXtD6Z",
        "outputId": "c4dde7cc-8723-4997-96d0-322592ec3fb4"
      },
      "execution_count": 107,
      "outputs": [
        {
          "output_type": "stream",
          "name": "stdout",
          "text": [
            "[34 40 10]\n"
          ]
        },
        {
          "output_type": "execute_result",
          "data": {
            "text/plain": [
              "84"
            ]
          },
          "metadata": {},
          "execution_count": 107
        }
      ]
    },
    {
      "cell_type": "code",
      "source": [
        "# Costo de Fabricacion\n",
        "cost_array= np.array([0.25,0.5,5.0])\n",
        "# Ganancia\n",
        "Profit_array = price_array-cost_array\n",
        "print(Profit_array)\n",
        "# Supongamos que quieren identificar qué elementos obtuvieron un beneficio superior a $2 por elemento.\n",
        "Profit_array>2"
      ],
      "metadata": {
        "colab": {
          "base_uri": "https://localhost:8080/"
        },
        "id": "PSMXoi9ht4M6",
        "outputId": "344c86a8-8876-4c2b-a1b0-a7c54acd3d07"
      },
      "execution_count": 108,
      "outputs": [
        {
          "output_type": "stream",
          "name": "stdout",
          "text": [
            "[1.75 0.5  5.  ]\n"
          ]
        },
        {
          "output_type": "execute_result",
          "data": {
            "text/plain": [
              "array([False, False,  True])"
            ]
          },
          "metadata": {},
          "execution_count": 108
        }
      ]
    },
    {
      "cell_type": "code",
      "source": [
        "#Esperen! ¡Este no es el resultado que queríamos! El array de NumPy hizo lo mejor que sabe hacer:\n",
        "# añadió un siete a *cada elemento* en el array.  Para regresar a los valores originales, restaremos 7,\n",
        "# luego usaremos la función np.append() para incluir el valor 7 como se desee.\n",
        "price_array = price_array + [7]\n",
        "print(price_array)\n",
        "price_array = price_array - [7]\n",
        "print(price_array)\n",
        "# Se agrega nuevo producto torta a precio de 7\n",
        "# Con la funcion np.append se agrega una elemento mas\n",
        "price_array = np.append(price_array, 7)\n",
        "print(price_array)\n"
      ],
      "metadata": {
        "id": "7S5JbHLrvjgH",
        "colab": {
          "base_uri": "https://localhost:8080/"
        },
        "outputId": "f0bcac4f-eadd-4911-dde0-6dc8b4c6f55c"
      },
      "execution_count": 109,
      "outputs": [
        {
          "output_type": "stream",
          "name": "stdout",
          "text": [
            "[ 9  8 17]\n",
            "[ 2  1 10]\n",
            "[ 2  1 10  7]\n"
          ]
        }
      ]
    },
    {
      "cell_type": "code",
      "source": [
        "# Se agregar precios 4,50 dulces, 3 magdalena, 4 barra de pan de plátano y 9  torta\n",
        "price_array = np.append(price_array, [4.5,3,4,9])\n",
        "print(price_array)"
      ],
      "metadata": {
        "colab": {
          "base_uri": "https://localhost:8080/"
        },
        "id": "syO0vltxxTgq",
        "outputId": "c548921e-d02d-4e75-b939-e8a3261ca519"
      },
      "execution_count": 110,
      "outputs": [
        {
          "output_type": "stream",
          "name": "stdout",
          "text": [
            "[ 2.   1.  10.   7.   4.5  3.   4.   9. ]\n"
          ]
        }
      ]
    },
    {
      "cell_type": "code",
      "source": [
        "#Para comprobar el tipo de datos de los elementos del array, pueden utilizar lo siguiente:\n",
        "price_array.dtype"
      ],
      "metadata": {
        "colab": {
          "base_uri": "https://localhost:8080/"
        },
        "id": "p2c_A7iZxsMp",
        "outputId": "d6d00da7-7618-4c5c-8a2f-e5d4cc942923"
      },
      "execution_count": 111,
      "outputs": [
        {
          "output_type": "execute_result",
          "data": {
            "text/plain": [
              "dtype('float64')"
            ]
          },
          "metadata": {},
          "execution_count": 111
        }
      ]
    },
    {
      "cell_type": "code",
      "source": [
        "# eliminar el elemento en el índice 7\n",
        "# recuerden usar indexación cero, o como es el último elemento\n",
        "# podemos ir por la derecha y utilizar el elemento -1.\n",
        "price_array = np.delete(price_array,-1)\n",
        "print(price_array)"
      ],
      "metadata": {
        "id": "sumfOVJbyl8v",
        "colab": {
          "base_uri": "https://localhost:8080/"
        },
        "outputId": "4fcef674-9860-4b24-c520-0b803c390fe1"
      },
      "execution_count": 112,
      "outputs": [
        {
          "output_type": "stream",
          "name": "stdout",
          "text": [
            "[ 2.   1.  10.   7.   4.5  3.   4. ]\n"
          ]
        }
      ]
    },
    {
      "cell_type": "code",
      "source": [
        "# Reemplazar\n",
        "# Después el club decide subir el precio de los pasteles de $10 a $12.\n",
        "# Nuevamente, tendremos que identificar el elemento usando el índice.\n",
        "# Los pasteles están en el índice 2.\n",
        "price_array[2] = 12\n",
        "print(price_array)\n"
      ],
      "metadata": {
        "colab": {
          "base_uri": "https://localhost:8080/"
        },
        "id": "u0e1ZwLHPwOc",
        "outputId": "5df76a41-a61a-4162-f1aa-122f5fcaa42e"
      },
      "execution_count": 113,
      "outputs": [
        {
          "output_type": "stream",
          "name": "stdout",
          "text": [
            "[ 2.   1.  12.   7.   4.5  3.   4. ]\n"
          ]
        }
      ]
    },
    {
      "cell_type": "code",
      "source": [
        "# Actualicen el quantity_sold_array para incluir la venta de 2 tartas,\n",
        "# 3 bandejas de dulces, 16 magdalenas y 5 panes de plátano.\n",
        "quantity_sold_array = np.array(quantity_sold)\n",
        "quantity_sold_array = np.append(quantity_sold,[2,3,16,5])\n",
        "quantity_sold_array\n",
        "# También se darán cuenta que una de las galletas que pensaron que se había vendido en realidad se cayó al suelo,\n",
        "# así que editen quantity_sold_array de 40 a 39\n",
        "quantity_sold_array [1]= 39\n",
        "# ingreso por venta\n",
        "quantity_sold_array*price_array\n",
        "\n"
      ],
      "metadata": {
        "id": "0MQwf5DXQbSB",
        "colab": {
          "base_uri": "https://localhost:8080/"
        },
        "outputId": "aee0f2bf-ef49-4c8b-f2d2-269036a44e71"
      },
      "execution_count": 114,
      "outputs": [
        {
          "output_type": "execute_result",
          "data": {
            "text/plain": [
              "array([34. , 39. , 12. , 14. , 13.5, 48. , 20. ])"
            ]
          },
          "metadata": {},
          "execution_count": 114
        }
      ]
    },
    {
      "cell_type": "code",
      "source": [
        "# reen un array de NumPy \"quantity_leftover\" que incluya la cantidad de cada elemento\n",
        "# restante al final de la venta: 2 pasteles, 1 tarta, 6 bandejas de dulces, 2 panes de plátano.\n",
        "# Pista: Asegúrense de incluir “0” de cada elemento que se haya vendido.\n",
        "# ¿Por qué esto es importante cuando se crea un array?\n",
        "quantity_leftover= [0,0,2,1,6,0,2]\n",
        "quantity_leftover_array = np.array(quantity_leftover)\n",
        "quantity_leftover_array\n",
        "# el Club vende a mitar de precios los salos\n",
        "venta_liq = sum(quantity_leftover_array*price_array)\n",
        "venta_liq = venta_liq/2\n",
        "venta_liq\n"
      ],
      "metadata": {
        "colab": {
          "base_uri": "https://localhost:8080/"
        },
        "id": "JqJYQsGL-UY8",
        "outputId": "e5a2d6e7-8bf6-4794-cae7-011a33e94ff1"
      },
      "execution_count": 117,
      "outputs": [
        {
          "output_type": "execute_result",
          "data": {
            "text/plain": [
              "33.0"
            ]
          },
          "metadata": {},
          "execution_count": 117
        }
      ]
    },
    {
      "cell_type": "code",
      "source": [
        "# ingreso totales\n",
        "venta_normal = sum(price_array * quantity_sold_array)\n",
        "venta_normal\n",
        "ingreso_tot = venta_normal.sum()+venta_liq.sum()\n",
        "ingreso_tot\n",
        "\n"
      ],
      "metadata": {
        "colab": {
          "base_uri": "https://localhost:8080/"
        },
        "id": "Cq_Hd1ayFcnj",
        "outputId": "df4a05a3-a434-4f3d-9b59-a3f4b546c8b7"
      },
      "execution_count": 120,
      "outputs": [
        {
          "output_type": "execute_result",
          "data": {
            "text/plain": [
              "213.5"
            ]
          },
          "metadata": {},
          "execution_count": 120
        }
      ]
    }
  ]
}