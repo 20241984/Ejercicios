{
  "nbformat": 4,
  "nbformat_minor": 0,
  "metadata": {
    "colab": {
      "provenance": [],
      "authorship_tag": "ABX9TyMNUXteJeubJcwgQ5+p7ro+",
      "include_colab_link": true
    },
    "kernelspec": {
      "name": "python3",
      "display_name": "Python 3"
    },
    "language_info": {
      "name": "python"
    }
  },
  "cells": [
    {
      "cell_type": "markdown",
      "metadata": {
        "id": "view-in-github",
        "colab_type": "text"
      },
      "source": [
        "<a href=\"https://colab.research.google.com/github/20241984/Ejercicios/blob/main/FizzBuzz.ipynb\" target=\"_parent\"><img src=\"https://colab.research.google.com/assets/colab-badge.svg\" alt=\"Open In Colab\"/></a>"
      ]
    },
    {
      "cell_type": "code",
      "execution_count": null,
      "metadata": {
        "colab": {
          "base_uri": "https://localhost:8080/"
        },
        "id": "hzD7QiIjQVOm",
        "outputId": "dcecd4d7-030c-4c77-90a5-b5d0bd261888"
      },
      "outputs": [
        {
          "output_type": "stream",
          "name": "stdout",
          "text": [
            "1\n",
            "2\n",
            "Fizz\n",
            "4\n",
            "Buzz\n",
            "Fizz\n",
            "7\n",
            "8\n",
            "Fizz\n",
            "Buzz\n",
            "11\n",
            "Fizz\n",
            "13\n",
            "14\n",
            "FizzBuzz\n",
            "16\n",
            "17\n",
            "Fizz\n",
            "19\n",
            "Buzz\n",
            "Fizz\n"
          ]
        }
      ],
      "source": [
        "# a) para los múltiplos de tres, impriman “Fizz” en lugar del número\n",
        "# b) para los múltiplos de cinco, impriman “Buzz”.\n",
        "# c) para los números que son múltiplos de tres y cinco impriman “FizzBuzz”.\n",
        "numero = 0\n",
        "while numero < 21:\n",
        "    numero = numero + 1\n",
        "    if numero % 3 == 0 and numero % 5 ==0:\n",
        "        print(\"FizzBuzz\")\n",
        "    elif numero % 3 == 0:\n",
        "        print(\"Fizz\")\n",
        "    elif numero % 5 == 0:\n",
        "        print(\"Buzz\")\n",
        "    else:\n",
        "      print(numero)\n"
      ]
    }
  ]
}